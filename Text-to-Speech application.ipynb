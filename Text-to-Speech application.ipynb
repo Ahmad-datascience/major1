{
 "cells": [
  {
   "cell_type": "markdown",
   "id": "73c988cb-53b2-425f-8f1b-e265de0f18fc",
   "metadata": {},
   "source": [
    "#  Interactive Text-to-Speech Program\n",
    "\n",
    "This project is a Python-based Text-to-Speech (TTS) application using the **pyttsx3** library.  \n",
    "It allows users to type any text, and the program will **speak it aloud** until they type an exit command (`exit`, `quit`, `stop`, or `bye`).  \n"
   ]
  },
  {
   "cell_type": "code",
   "execution_count": 1,
   "id": "da003448-3215-40bd-b08b-5bf3fca9d618",
   "metadata": {},
   "outputs": [
    {
     "name": "stdout",
     "output_type": "stream",
     "text": [
      "Requirement already satisfied: pyttsx3 in c:\\users\\lenovo\\appdata\\local\\programs\\python\\python313\\lib\\site-packages (2.99)\n",
      "Requirement already satisfied: comtypes in c:\\users\\lenovo\\appdata\\local\\programs\\python\\python313\\lib\\site-packages (from pyttsx3) (1.4.11)\n",
      "Requirement already satisfied: pypiwin32 in c:\\users\\lenovo\\appdata\\local\\programs\\python\\python313\\lib\\site-packages (from pyttsx3) (223)\n",
      "Requirement already satisfied: pywin32 in c:\\users\\lenovo\\appdata\\local\\programs\\python\\python313\\lib\\site-packages (from pyttsx3) (311)\n"
     ]
    }
   ],
   "source": [
    "! pip install pyttsx3 "
   ]
  },
  {
   "cell_type": "code",
   "execution_count": null,
   "id": "4ceb11c1-20cd-47ee-9a92-ca31c35ec246",
   "metadata": {
    "scrolled": true
   },
   "outputs": [
    {
     "name": "stdout",
     "output_type": "stream",
     "text": [
      "==================================================\n",
      "Interactive Text-to-Speech Program\n",
      "Type anything, and it will be spoken aloud.\n",
      "To exit the program, type: 'exit', 'quit', 'stop', or 'bye'\n",
      "==================================================\n",
      "\n",
      "Initializing voice test...\n"
     ]
    },
    {
     "name": "stdin",
     "output_type": "stream",
     "text": [
      "\n",
      "Enter text to speak:  say hello world\n"
     ]
    },
    {
     "name": "stdout",
     "output_type": "stream",
     "text": [
      "Speaking: say hello world\n"
     ]
    },
    {
     "name": "stdin",
     "output_type": "stream",
     "text": [
      "\n",
      "Enter text to speak:    The path that led into the mountains was little more than a trail of broken stones and roots. Few dared to tread it, for it was said to be haunted even before the whispers of the Mirror began.  Arav tightened his grip on the sword Rudran had given him. The blade’s surface was etched with strange markings that glimmered faintly in the dawn light. His heart hammered against his ribs, yet beneath the fear was a fierce spark: he was no longer the boy mocked for his dreams. He had been chosen, whether by chance or destiny.  Behind him, a voice called out.  “Wait up, fool.”  Arav turned. To his disbelief, **Devraj** stood there, a heavy wooden staff resting across his shoulders. His expression was serious, though his usual arrogance still lingered in the curve of his mouth.  “What are you doing here?” Arav demanded.  “You think I’d let you run off and play hero while the rest of us sit and wait to die?” Devraj snorted. “If you’re going to get yourself killed, I might as well be there to drag your body back.”  Arav almost laughed—almost. Instead, he gave a short nod. Though they had never been friends, there was comfort in not walking alone.  The two boys set off together. As they climbed higher, the village below shrank to a speck, until even the great banyan tree was lost in the mist.  ---  By midday, the trail cut through a dense forest clinging to the slopes. The air was heavy with the scent of moss and pine. Strange sounds echoed between the trees—low growls, rustling leaves, the snap of branches.  Devraj gripped his staff tightly. “I don’t like this.”  Arav didn’t either, though he tried to hide it. Every shadow between the trees seemed to shift when he wasn’t looking.  Then, without warning, a shape darted across the path. A figure, black as smoke, with glowing white eyes.  Arav’s breath caught. “A Shadow.”  The creature lunged. Its body seemed insubstantial, like fog given form, yet its claws left jagged marks in the earth.  Arav raised the sword. The blade flared with light as it met the creature’s swipe. A hiss filled the air, as if the darkness itself recoiled from the weapon.  Devraj swung his staff, striking through the Shadow’s body. It staggered, but re-formed almost instantly.  “It won’t die!” Devraj shouted.  Arav’s mind raced. Then instinct took over. He thrust the glowing sword into the creature’s chest. The light spread like cracks in glass, and with a shriek, the Shadow burst into fragments that melted back into the air.  For a long moment, the forest was silent.  Devraj wiped his brow. “Remind me never to call you useless again.”  Arav let out a shaky laugh. “I’ll hold you to that.”  But inside, he was shaken. The Shadows were real. And if one had wandered this far, then the Mirror’s power was growing fast.  ---  Night fell before they cleared the forest. The boys set up camp in a small clearing, using stones to ring a fire. Sparks leapt into the dark, and the flames cast long, uneasy shadows around them.  Devraj gnawed at a strip of dried meat. “Do you really think you can destroy this Mirror? I mean, look at us—we’re just two boys with a sword and a stick.”  Arav stared into the fire. “I don’t know. But someone has to try.”  For a while, silence stretched between them, broken only by the crackle of burning wood. Then Devraj spoke again, softer this time.  “My father used to tell me the old stories too. I laughed at them. But when I saw that thing today…” He shook his head. “Maybe we’ve been blind. Maybe the world is bigger than we thought.”  Arav nodded. He understood. The village had lived in denial, clinging to simplicity while shadows gathered beyond their fields. But denial could not stop what was coming.  When sleep finally claimed them, Arav dreamed. He stood before a colossal mirror framed in black stone. His reflection stared back—but it was not him. Its eyes glowed, its smile was cruel, and in its hand was a blade of darkness.  “Soon,” the reflection whispered. “You will be mine.”  Arav awoke drenched in sweat. The fire was dying, the forest quiet. He glanced at Devraj, still asleep, then up at the stars.  The Mirror was calling him.  ---  By the third day, the forest gave way to jagged cliffs. The air grew thin, biting cold against their skin. They followed a winding path carved into the stone, leading them higher into the mountain’s heart.  At last, they reached a plateau. At its center rose a ruined shrine, its walls broken, its roof caved in. Strange markings covered the stones—similar to those on Arav’s sword.  “This must have been the guardian’s temple,” Arav whispered.  As they stepped closer, the ground trembled. From the broken shrine, shadows seeped upward, coiling together into a massive form.  The figure towered above them, its body a writhing mass of darkness, its face hidden behind a mask of bone.  “You should not have come here,” it boomed, voice echoing like thunder. “The Mirror awaits, and it does not forgive intruders.”  Devraj raised his staff. “We’ve fought one of you before!”  The giant Shadow laughed, a sound like cracking ice. “You fought a child of the dark. I am its herald.”  The battle was brutal. The creature’s claws split stone, its roar shook the cliffs. Devraj darted around, striking whenever he could, though his blows barely slowed the monster.  Arav focused on the sword. Each time it met the creature’s shadowy flesh, light seared through the darkness. Yet the herald was strong, far stronger than the smaller Shadow.  At last, with a desperate cry, Arav drove the blade deep into the creature’s chest. For a moment, nothing happened. Then the markings on the sword blazed brighter than ever before.  The herald shrieked, its form unraveling into smoke that spiraled upward and vanished into the sky.  Silence fell. The shrine lay in ruins, the air heavy with the scent of burnt stone.  Arav collapsed to his knees, panting. Devraj dropped beside him, equally exhausted.  “We… survived,” Devraj gasped.  Arav stared at the sword, its glow fading back to a faint shimmer. He could feel it—this was only the beginning. The Mirror was near, and with it, horrors far greater than they had yet faced.  Still, deep inside, he knew something else:  This was the path he was meant to walk.  And he would not walk it alone.\n"
     ]
    },
    {
     "name": "stdout",
     "output_type": "stream",
     "text": [
      "Speaking: The path that led into the mountains was little more than a trail of broken stones and roots. Few dared to tread it, for it was said to be haunted even before the whispers of the Mirror began.  Arav tightened his grip on the sword Rudran had given him. The blade’s surface was etched with strange markings that glimmered faintly in the dawn light. His heart hammered against his ribs, yet beneath the fear was a fierce spark: he was no longer the boy mocked for his dreams. He had been chosen, whether by chance or destiny.  Behind him, a voice called out.  “Wait up, fool.”  Arav turned. To his disbelief, **Devraj** stood there, a heavy wooden staff resting across his shoulders. His expression was serious, though his usual arrogance still lingered in the curve of his mouth.  “What are you doing here?” Arav demanded.  “You think I’d let you run off and play hero while the rest of us sit and wait to die?” Devraj snorted. “If you’re going to get yourself killed, I might as well be there to drag your body back.”  Arav almost laughed—almost. Instead, he gave a short nod. Though they had never been friends, there was comfort in not walking alone.  The two boys set off together. As they climbed higher, the village below shrank to a speck, until even the great banyan tree was lost in the mist.  ---  By midday, the trail cut through a dense forest clinging to the slopes. The air was heavy with the scent of moss and pine. Strange sounds echoed between the trees—low growls, rustling leaves, the snap of branches.  Devraj gripped his staff tightly. “I don’t like this.”  Arav didn’t either, though he tried to hide it. Every shadow between the trees seemed to shift when he wasn’t looking.  Then, without warning, a shape darted across the path. A figure, black as smoke, with glowing white eyes.  Arav’s breath caught. “A Shadow.”  The creature lunged. Its body seemed insubstantial, like fog given form, yet its claws left jagged marks in the earth.  Arav raised the sword. The blade flared with light as it met the creature’s swipe. A hiss filled the air, as if the darkness itself recoiled from the weapon.  Devraj swung his staff, striking through the Shadow’s body. It staggered, but re-formed almost instantly.  “It won’t die!” Devraj shouted.  Arav’s mind raced. Then instinct took over. He thrust the glowing sword into the creature’s chest. The light spread like cracks in glass, and with a shriek, the Shadow burst into fragments that melted back into the air.  For a long moment, the forest was silent.  Devraj wiped his brow. “Remind me never to call you useless again.”  Arav let out a shaky laugh. “I’ll hold you to that.”  But inside, he was shaken. The Shadows were real. And if one had wandered this far, then the Mirror’s power was growing fast.  ---  Night fell before they cleared the forest. The boys set up camp in a small clearing, using stones to ring a fire. Sparks leapt into the dark, and the flames cast long, uneasy shadows around them.  Devraj gnawed at a strip of dried meat. “Do you really think you can destroy this Mirror? I mean, look at us—we’re just two boys with a sword and a stick.”  Arav stared into the fire. “I don’t know. But someone has to try.”  For a while, silence stretched between them, broken only by the crackle of burning wood. Then Devraj spoke again, softer this time.  “My father used to tell me the old stories too. I laughed at them. But when I saw that thing today…” He shook his head. “Maybe we’ve been blind. Maybe the world is bigger than we thought.”  Arav nodded. He understood. The village had lived in denial, clinging to simplicity while shadows gathered beyond their fields. But denial could not stop what was coming.  When sleep finally claimed them, Arav dreamed. He stood before a colossal mirror framed in black stone. His reflection stared back—but it was not him. Its eyes glowed, its smile was cruel, and in its hand was a blade of darkness.  “Soon,” the reflection whispered. “You will be mine.”  Arav awoke drenched in sweat. The fire was dying, the forest quiet. He glanced at Devraj, still asleep, then up at the stars.  The Mirror was calling him.  ---  By the third day, the forest gave way to jagged cliffs. The air grew thin, biting cold against their skin. They followed a winding path carved into the stone, leading them higher into the mountain’s heart.  At last, they reached a plateau. At its center rose a ruined shrine, its walls broken, its roof caved in. Strange markings covered the stones—similar to those on Arav’s sword.  “This must have been the guardian’s temple,” Arav whispered.  As they stepped closer, the ground trembled. From the broken shrine, shadows seeped upward, coiling together into a massive form.  The figure towered above them, its body a writhing mass of darkness, its face hidden behind a mask of bone.  “You should not have come here,” it boomed, voice echoing like thunder. “The Mirror awaits, and it does not forgive intruders.”  Devraj raised his staff. “We’ve fought one of you before!”  The giant Shadow laughed, a sound like cracking ice. “You fought a child of the dark. I am its herald.”  The battle was brutal. The creature’s claws split stone, its roar shook the cliffs. Devraj darted around, striking whenever he could, though his blows barely slowed the monster.  Arav focused on the sword. Each time it met the creature’s shadowy flesh, light seared through the darkness. Yet the herald was strong, far stronger than the smaller Shadow.  At last, with a desperate cry, Arav drove the blade deep into the creature’s chest. For a moment, nothing happened. Then the markings on the sword blazed brighter than ever before.  The herald shrieked, its form unraveling into smoke that spiraled upward and vanished into the sky.  Silence fell. The shrine lay in ruins, the air heavy with the scent of burnt stone.  Arav collapsed to his knees, panting. Devraj dropped beside him, equally exhausted.  “We… survived,” Devraj gasped.  Arav stared at the sword, its glow fading back to a faint shimmer. He could feel it—this was only the beginning. The Mirror was near, and with it, horrors far greater than they had yet faced.  Still, deep inside, he knew something else:  This was the path he was meant to walk.  And he would not walk it alone.\n"
     ]
    }
   ],
   "source": [
    "import pyttsx3\n",
    "import time\n",
    "\n",
    "def create_engine():\n",
    "    \"\"\"Create and configure a new text-to-speech engine\"\"\"\n",
    "    engine = pyttsx3.init()\n",
    "    engine.setProperty('rate', 130)  # Set speaking rate\n",
    "    engine.setProperty('volume', 1.0)  # Set volume level (max)\n",
    "    return engine\n",
    "\n",
    "def speak_text(text):\n",
    "    \"\"\"Use the TTS engine to speak the provided text\"\"\"\n",
    "    try:\n",
    "        engine = create_engine()\n",
    "        engine.say(text)\n",
    "        engine.runAndWait()\n",
    "        engine.stop()\n",
    "        return True\n",
    "    except Exception as e:\n",
    "        print(f\"Error: {e}\")\n",
    "        return False\n",
    "\n",
    "def main():\n",
    "    print(\"=\" * 50)\n",
    "    print(\"Interactive Text-to-Speech Program\")\n",
    "    print(\"Type anything, and it will be spoken aloud.\")\n",
    "    print(\"To exit the program, type: 'exit', 'quit', 'stop', or 'bye'\")\n",
    "    print(\"=\" * 50)\n",
    "    \n",
    "    # Initial test message\n",
    "    print(\"\\nInitializing voice test...\")\n",
    "    speak_text(\"Hello! I am ready to speak whatever you type.\")\n",
    "    \n",
    "    while True:\n",
    "        # Get user input\n",
    "        text = input(\"\\nEnter text to speak: \").strip()\n",
    "        \n",
    "        # Exit condition\n",
    "        if text.lower() in ['exit', 'quit', 'stop', 'bye']:\n",
    "            speak_text(\"Goodbye! See you next time.\")\n",
    "            print(\"Shutting down the program...\")\n",
    "            break\n",
    "        \n",
    "        # Handle empty input\n",
    "        if not text:\n",
    "            print(\"Please type something.\")\n",
    "            continue\n",
    "        \n",
    "        # Speak the input text\n",
    "        print(f\"Speaking: {text}\")\n",
    "        success = speak_text(text)\n",
    "        \n",
    "        if not success:\n",
    "            print(\"An error occurred. Retrying...\")\n",
    "            time.sleep(1)\n",
    "            speak_text(text)\n",
    "\n",
    "if __name__ == \"__main__\":\n",
    "    main()\n"
   ]
  },
  {
   "cell_type": "markdown",
   "id": "c28b98e2-0edc-401c-bf5f-4fabc234170a",
   "metadata": {},
   "source": [
    "#About the Project: ProVoice - Text to Speech Application\n",
    "\n",
    "ProVoice is a beginner-friendly desktop application built with Python’s Tkinter library that converts typed text into spoken words using the pyttsx3 text-to-speech engine. It offers a clean, professional interface and responsive controls for an easy and smooth user experience.\n",
    "\n",
    "Key Features:\n",
    "\n",
    "Converts any typed text to speech with a single click\n",
    "\n",
    "Runs speech synthesis in a background thread for a non-blocking UI\n",
    "\n",
    "Supports stop functionality to immediately halt speaking\n",
    "\n",
    "Clear button to quickly erase the input text\n",
    "\n",
    "Real-time status updates with color-coded messages\n",
    "\n",
    "Simple, lightweight, and uses only built-in and commonly used Python packages\n",
    "\n",
    "This project is an excellent starting point for anyone looking to explore GUI programming and integrate text-to-speech functionality in Python."
   ]
  },
  {
   "cell_type": "code",
   "execution_count": null,
   "id": "aaf60415-d86f-400f-8fdc-013e8b2f7b4a",
   "metadata": {},
   "outputs": [],
   "source": [
    "import tkinter as tk\n",
    "import threading\n",
    "import pyttsx3\n",
    "\n",
    "# Simple Text-to-Speech app (beginner friendly)\n",
    "\n",
    "def start_speaking():\n",
    "    \"\"\"Get text and start TTS in a background thread.\"\"\"\n",
    "    global speaking\n",
    "    text = text_box.get(\"1.0\", \"end\").strip()\n",
    "    if not text:\n",
    "        set_status(\"⚠️ Please type some text\", \"orange\")\n",
    "        return\n",
    "    if speaking:\n",
    "        return\n",
    "    speaking = True\n",
    "    update_buttons()\n",
    "    set_status(\"🔊 Speaking...\", \"blue\")\n",
    "    threading.Thread(target=run_tts, args=(text,), daemon=True).start()\n",
    "\n",
    "def run_tts(text):\n",
    "    \"\"\"Speak the text, then update the UI when done.\"\"\"\n",
    "    try:\n",
    "        engine.say(text)\n",
    "        engine.runAndWait()\n",
    "        root.after(0, lambda: set_status(\"✅ Done\", \"green\"))\n",
    "    except Exception as e:\n",
    "        root.after(0, lambda: set_status(f\"❌ {e}\", \"red\"))\n",
    "    finally:\n",
    "        root.after(0, stop_finish)\n",
    "\n",
    "def stop_now():\n",
    "    \"\"\"Stop speaking immediately (if speaking).\"\"\"\n",
    "    engine.stop()\n",
    "    set_status(\"⏹️ Stopped\", \"orange\")\n",
    "    stop_finish()\n",
    "\n",
    "def stop_finish():\n",
    "    \"\"\"Reset state and buttons after speak/stop finishes.\"\"\"\n",
    "    global speaking\n",
    "    speaking = False\n",
    "    update_buttons()\n",
    "\n",
    "def clear_text():\n",
    "    \"\"\"Stop and clear the text box.\"\"\"\n",
    "    engine.stop()\n",
    "    text_box.delete(\"1.0\", \"end\")\n",
    "    set_status(\"🧹 Cleared. Ready.\", \"gray\")\n",
    "    stop_finish()\n",
    "\n",
    "def set_status(message, color):\n",
    "    \"\"\"Change the status label text and color.\"\"\"\n",
    "    status.config(text=message, fg=color)\n",
    "\n",
    "def update_buttons():\n",
    "    \"\"\"Enable/disable buttons based on speaking state.\"\"\"\n",
    "    if speaking:\n",
    "        speak_btn.config(state=\"disabled\")\n",
    "        stop_btn.config(state=\"normal\")\n",
    "    else:\n",
    "        speak_btn.config(state=\"normal\")\n",
    "        stop_btn.config(state=\"disabled\")\n",
    "\n",
    "# Build the window and widgets\n",
    "root = tk.Tk()\n",
    "root.title(\"ProVoice - Text to Speech\")  # Professional app title\n",
    "root.geometry(\"600x420\")\n",
    "root.configure(bg=\"#f4f4f4\")  # Light gray background\n",
    "\n",
    "engine = pyttsx3.init()\n",
    "engine.setProperty(\"rate\", 140)\n",
    "engine.setProperty(\"volume\", 1.0)\n",
    "speaking = False\n",
    "\n",
    "tk.Label(root, text=\"ProVoice - Text to Speech\", font=(\"Segoe UI\", 18, \"bold\"), bg=\"#f4f4f4\").pack(pady=10)\n",
    "tk.Label(root, text=\"Type your text and press Speak\", font=(\"Segoe UI\", 11), bg=\"#f4f4f4\").pack()\n",
    "\n",
    "text_box = tk.Text(root, height=10, wrap=\"word\", font=(\"Segoe UI\", 12), bd=2, relief=\"groove\")\n",
    "text_box.pack(padx=15, pady=10, fill=tk.BOTH, expand=True)\n",
    "\n",
    "btn_row = tk.Frame(root, bg=\"#f4f4f4\")\n",
    "btn_row.pack(pady=6)\n",
    "\n",
    "speak_btn = tk.Button(btn_row, text=\"🔊 Speak\", width=12, font=(\"Segoe UI\", 10), command=start_speaking)\n",
    "speak_btn.grid(row=0, column=0, padx=6)\n",
    "\n",
    "stop_btn = tk.Button(btn_row, text=\"⏹️ Stop\", width=12, font=(\"Segoe UI\", 10), command=stop_now, state=\"disabled\")\n",
    "stop_btn.grid(row=0, column=1, padx=6)\n",
    "\n",
    "clear_btn = tk.Button(btn_row, text=\"🧹 Clear\", width=12, font=(\"Segoe UI\", 10), command=clear_text)\n",
    "clear_btn.grid(row=0, column=2, padx=6)\n",
    "\n",
    "exit_btn = tk.Button(btn_row, text=\"❌ Exit\", width=12, font=(\"Segoe UI\", 10), command=root.destroy)\n",
    "exit_btn.grid(row=0, column=3, padx=6)\n",
    "\n",
    "status = tk.Label(root, text=\"📝 Ready\", font=(\"Segoe UI\", 10), bg=\"#f4f4f4\")\n",
    "status.pack(pady=10)\n",
    "\n",
    "root.protocol(\"WM_DELETE_WINDOW\", root.destroy)\n",
    "root.mainloop()0,00,0\n"
   ]
  },
  {
   "cell_type": "code",
   "execution_count": null,
   "id": "aeacbf2c-a224-4b2e-baaf-f2e660b925ab",
   "metadata": {},
   "outputs": [],
   "source": []
  },
  {
   "cell_type": "code",
   "execution_count": null,
   "id": "e4ddff36-b412-415f-bc28-b65575905dd9",
   "metadata": {},
   "outputs": [],
   "source": []
  }
 ],
 "metadata": {
  "kernelspec": {
   "display_name": "Python 3 (ipykernel)",
   "language": "python",
   "name": "python3"
  },
  "language_info": {
   "codemirror_mode": {
    "name": "ipython",
    "version": 3
   },
   "file_extension": ".py",
   "mimetype": "text/x-python",
   "name": "python",
   "nbconvert_exporter": "python",
   "pygments_lexer": "ipython3",
   "version": "3.13.5"
  }
 },
 "nbformat": 4,
 "nbformat_minor": 5
}
